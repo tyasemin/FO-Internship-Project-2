{
  "nbformat": 4,
  "nbformat_minor": 0,
  "metadata": {
    "colab": {
      "name": "prediction_FO_detection.ipynb",
      "provenance": [],
      "collapsed_sections": []
    },
    "kernelspec": {
      "name": "python3",
      "display_name": "Python 3"
    },
    "language_info": {
      "name": "python"
    }
  },
  "cells": [
    {
      "cell_type": "code",
      "metadata": {
        "id": "aUOoZLvOcccQ"
      },
      "source": [
        "from google.colab import drive\n",
        "drive.mount('/content/drive')"
      ],
      "execution_count": null,
      "outputs": []
    },
    {
      "cell_type": "code",
      "metadata": {
        "id": "QKWkagwyc00J"
      },
      "source": [
        "import json\n",
        "import cv2\n",
        "from matplotlib import pyplot as plt"
      ],
      "execution_count": 2,
      "outputs": []
    },
    {
      "cell_type": "code",
      "metadata": {
        "id": "d3OFOeiJXAGp"
      },
      "source": [
        "def return_coordinates(json_obj):\n",
        "    obj=json_obj['objects']\n",
        "    coordinate_list=[]\n",
        "    for bbx in obj:\n",
        "        coordinates=bbx['relative_coordinates']\n",
        "        center_x,center_y,width,height=coordinates['center_x'],coordinates['center_y'],coordinates['width'],coordinates['height']\n",
        "        confidence=bbx['confidence']\n",
        "        coordinate_list.append((center_x,center_y,width,height,confidence))\n",
        "    return coordinate_list"
      ],
      "execution_count": 3,
      "outputs": []
    },
    {
      "cell_type": "code",
      "metadata": {
        "id": "ZOaqO0EPXC31"
      },
      "source": [
        "def return_image_path(json_obj):\n",
        "    path=json_obj['filename']\n",
        "    return path"
      ],
      "execution_count": 4,
      "outputs": []
    },
    {
      "cell_type": "code",
      "metadata": {
        "id": "mZtjyHwOczQA"
      },
      "source": [
        "def return_image_size(img):\n",
        "  return img.shape[1],img.shape[0]"
      ],
      "execution_count": 5,
      "outputs": []
    },
    {
      "cell_type": "code",
      "metadata": {
        "id": "gn-_BsM8Msg2"
      },
      "source": [
        "def return_image_name(path):\n",
        "  image_name=path[40:]\n",
        "  return image_name"
      ],
      "execution_count": 6,
      "outputs": []
    },
    {
      "cell_type": "code",
      "metadata": {
        "id": "CSnFICCjwsSL"
      },
      "source": [
        "def return_json_name(img_name):\n",
        "  JSON_DIR=\"/content/drive/MyDrive/model/ann/\"\n",
        "  return JSON_DIR+img_name[:-3]+\"png\"+\".json\""
      ],
      "execution_count": 7,
      "outputs": []
    },
    {
      "cell_type": "code",
      "metadata": {
        "id": "fWZnHBmUujNn"
      },
      "source": [
        "def prepare_cropped_image(image):\n",
        "      image = Image.fromarray(image, 'RGB')\n",
        "      image = image.resize((32, 32))\n",
        "      np_image=np.array(image)\n",
        "      np_image=np_image/255\n",
        "      return np.expand_dims(np_image,axis=0)"
      ],
      "execution_count": 8,
      "outputs": []
    },
    {
      "cell_type": "code",
      "metadata": {
        "id": "55QyjOm5yieI"
      },
      "source": [
        "def return_GT_image(json_obj,img):\n",
        "  with open(json_obj,'r') as f:\n",
        "\n",
        "    jsnfile=json.load(f)\n",
        "    GT_obj=jsnfile['objects']\n",
        "    for obj in GT_obj:\n",
        "      if obj['classTitle']==\"Traffic Sign\":\n",
        "        obj_class_pts = obj['points']['exterior']\n",
        "        x_0=obj_class_pts[0][0]\n",
        "        y_0=obj_class_pts[0][1]\n",
        "        x_1=obj_class_pts[1][0]\n",
        "        y_1=obj_class_pts[1][1]\n",
        "\n",
        "        cv2.rectangle(img, (int(x_0), int(y_0)), (int(x_1),int(y_1)),\n",
        "                              color=(0, 0, 255), \n",
        "                              thickness=2)\n",
        "        plt.imshow(img)\n",
        "    return img"
      ],
      "execution_count": 9,
      "outputs": []
    },
    {
      "cell_type": "code",
      "metadata": {
        "id": "q1GVHJy9c9p6"
      },
      "source": [
        "json_path='/content/drive/MyDrive/model/FO_best.json'"
      ],
      "execution_count": 10,
      "outputs": []
    },
    {
      "cell_type": "code",
      "metadata": {
        "id": "TRPNiBygNQQt"
      },
      "source": [
        "#draws ground truth bboxs -DONT CHANGE\n",
        "from keras import models\n",
        "from PIL import Image\n",
        "import numpy as np\n",
        "import cv2\n",
        "from matplotlib import pyplot as plt\n",
        "with open(json_path, 'r') as f:\n",
        "    jsonfile = json.load(f)\n",
        "    json_obj=jsonfile\n",
        "#prediction_path=\"/content/drive/MyDrive/prediction/\"\n",
        "#ground_path=\"/content/drive/MyDrive/GT/\"\n",
        "final_path=\"/content/drive/MyDrive/FO_before_aug/\"\n",
        "\n",
        "\n",
        "i=0\n",
        "for obj in json_obj:\n",
        "\n",
        "  img_path=return_image_path(obj)\n",
        "  coordinates=return_coordinates(obj)\n",
        "  img=cv2.imread(img_path)\n",
        "  #ground\n",
        "  img_name=return_image_name(img_path)\n",
        "  GT_json=return_json_name(img_name)\n",
        "  GT_img=return_GT_image(GT_json,img) \n",
        "  #ground\n",
        "\n",
        "  img_1,img_0=return_image_size(img)\n",
        "  \n",
        "  classification_model=models.load_model(\"/content/drive/MyDrive/model/classification_model.h5\")\n",
        "  \n",
        "\n",
        "  #draw predictions\n",
        "  for bbx in coordinates: \n",
        "    test_img=[]\n",
        "    xcenter,ycenter,width,height,confidence=bbx\n",
        "\n",
        "    xcenter=xcenter*img_1\n",
        "    ycenter=ycenter*img_0\n",
        "\n",
        "    width=width*img_1\n",
        "    height=height*img_0\n",
        "\n",
        "    x_min=abs(xcenter-(width/2))\n",
        "    y_min=abs(ycenter-(height/2))\n",
        "\n",
        "    x_max=width+x_min\n",
        "    y_max=height+y_min\n",
        "\n",
        "    w=int(width)\n",
        "    h=int(height)\n",
        "\n",
        "    crop_img = img[int(y_min):int(y_min)+h,int(x_min):int(x_min)+w]\n",
        "\n",
        "    test_img=prepare_cropped_image(crop_img)\n",
        "    \n",
        "    prediction=classification_model.predict(test_img)\n",
        "\n",
        "    prediction=np.argmax(prediction,axis=1)\n",
        "    print(prediction)\n",
        "    cv2.rectangle(img, (int(x_min+w), int(y_min+h)), (int(x_min),int(y_min)),\n",
        "                              color=(0, 255, 0), \n",
        "                              thickness=2)\n",
        "    sign_label=\"id\"+str(prediction)\n",
        "    cv2.putText(img,sign_label, (int(x_min), int(y_min)-10), cv2.FONT_HERSHEY_SIMPLEX, 1, (36,255,12), 2)\n",
        "    \n",
        "    i+=1\n",
        "  \n",
        "  cv2.imwrite(final_path+str(i)+\".jpg\",img)"
      ],
      "execution_count": null,
      "outputs": []
    }
  ]
}