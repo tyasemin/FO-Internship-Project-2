{
  "nbformat": 4,
  "nbformat_minor": 0,
  "metadata": {
    "colab": {
      "name": "FO_training.ipynb",
      "provenance": [],
      "collapsed_sections": []
    },
    "kernelspec": {
      "name": "python3",
      "display_name": "Python 3"
    },
    "language_info": {
      "name": "python"
    },
    "accelerator": "GPU"
  },
  "cells": [
    {
      "cell_type": "markdown",
      "metadata": {
        "id": "6s2KAxH0LPGN"
      },
      "source": [
        "Connection between drive account"
      ]
    },
    {
      "cell_type": "code",
      "metadata": {
        "id": "9ovcqp3wJIDK"
      },
      "source": [
        "from google.colab import drive\n",
        "drive.mount('/content/drive')"
      ],
      "execution_count": null,
      "outputs": []
    },
    {
      "cell_type": "markdown",
      "metadata": {
        "id": "3KcEoDlpLWIw"
      },
      "source": [
        "Download darknet"
      ]
    },
    {
      "cell_type": "code",
      "metadata": {
        "id": "2uMlgyQ0JP9F"
      },
      "source": [
        "!git clone https://github.com/AlexeyAB/darknet"
      ],
      "execution_count": null,
      "outputs": []
    },
    {
      "cell_type": "markdown",
      "metadata": {
        "id": "MDolJOuuLZua"
      },
      "source": [
        "Modify makefile"
      ]
    },
    {
      "cell_type": "code",
      "metadata": {
        "id": "TYmNiI15JTA-"
      },
      "source": [
        "!sed -i 's/OPENCV=0/OPENCV=1/' Makefile  \n",
        "!sed -i 's/GPU=0/GPU=1/' Makefile \n",
        "!sed -i 's/CUDNN=0/CUDNN=1/' Makefile \n",
        "!sed -i 's/CUDNN_HALF=0/CUDNN_HALF=1/' Makefile"
      ],
      "execution_count": null,
      "outputs": []
    },
    {
      "cell_type": "code",
      "metadata": {
        "id": "PSbNF6pFJV9h"
      },
      "source": [
        "!make"
      ],
      "execution_count": null,
      "outputs": []
    },
    {
      "cell_type": "code",
      "metadata": {
        "id": "ityXVpEYT5JN"
      },
      "source": [
        "!wget https://github.com/AlexeyAB/darknet/releases/download/darknet_yolo_v3_optimal/yolov4.conv.137"
      ],
      "execution_count": null,
      "outputs": []
    },
    {
      "cell_type": "code",
      "metadata": {
        "id": "ZSAFynC3JogR"
      },
      "source": [
        "!cp /content/drive/MyDrive/model/train.txt ./train.txt\n",
        "!cp /content/drive/MyDrive/model/val.txt ./val.txt\n",
        "!cp /content/drive/MyDrive/model/test.txt ./test.txt\n",
        "!cp /content/drive/MyDrive/model/FO.data ./FO.data\n",
        "!cp /content/drive/MyDrive/model/FO.names ./FO.names\n",
        "!cp /content/drive/MyDrive/model/yolov4-FO.cfg ./yolov4-FO.cfg\n",
        "!cp /content/drive/MyDrive/model/yolov4.weights ./yolov4.weights\n",
        "!cp /content/drive/MyDrive/model/yolov4-FO_900.weights ./yolov4-FO_900.weights\n",
        "!cp /content/drive/MyDrive/backup/yolov4-FO_last.weights ./yolov4-FO_last.weights"
      ],
      "execution_count": null,
      "outputs": []
    },
    {
      "cell_type": "markdown",
      "metadata": {
        "id": "26HjqBK7L9PQ"
      },
      "source": [
        "Train yolov4"
      ]
    },
    {
      "cell_type": "code",
      "metadata": {
        "id": "q-BshcYXVksg"
      },
      "source": [
        "!unzip -d /content/drive/MyDrive/FO /content/drive/MyDrive/FO.zip"
      ],
      "execution_count": null,
      "outputs": []
    },
    {
      "cell_type": "code",
      "metadata": {
        "id": "o7iH_VwV768S"
      },
      "source": [
        "!sed -i 's/batch=1/batch=64/' yolov4-FO.cfg\n",
        "!sed -i 's/subdivisions=1/subdivisions=16/' yolov4-FO.cfg"
      ],
      "execution_count": null,
      "outputs": []
    },
    {
      "cell_type": "code",
      "metadata": {
        "id": "5bJk538BLHPV"
      },
      "source": [
        "%%capture\n",
        "!./darknet detector train FO.data yolov4-FO.cfg yolov4-FO_last.weights -dont_show -map"
      ],
      "execution_count": null,
      "outputs": []
    },
    {
      "cell_type": "code",
      "metadata": {
        "id": "YJS69n88c5FK"
      },
      "source": [
        "!./darknet detector train FO.data yolov4-FO.cfg backup/yolov4-FO_final.weights -dont_show"
      ],
      "execution_count": null,
      "outputs": []
    },
    {
      "cell_type": "code",
      "metadata": {
        "id": "Me5p4AgsZ97b"
      },
      "source": [
        "!sed -i 's/batch=64/batch=1/' yolov4-FO.cfg\n",
        "!sed -i 's/subdivisions=16/subdivisions=1/' yolov4-FO.cfg"
      ],
      "execution_count": null,
      "outputs": []
    },
    {
      "cell_type": "code",
      "metadata": {
        "id": "IlMoUisbaVQ9"
      },
      "source": [
        "!./darknet detector test FO.data yolov4-FO.cfg yolov4-FO_last.weights <test.txt -ext_output -dont_show -out FOModelPrediction.json"
      ],
      "execution_count": null,
      "outputs": []
    }
  ]
}