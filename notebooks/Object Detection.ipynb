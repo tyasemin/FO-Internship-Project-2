{
 "cells": [
  {
   "cell_type": "markdown",
   "id": "4bb32609",
   "metadata": {},
   "source": [
    "# Object Detection"
   ]
  },
  {
   "cell_type": "markdown",
   "id": "78dcfd44",
   "metadata": {},
   "source": [
    "<a href=''>Traffic Sign Detection</a>\n",
    "<br>\n",
    "<a href=''>Traffic Sign Detection-Source Code</a>"
   ]
  },
  {
   "cell_type": "markdown",
   "id": "24f20228",
   "metadata": {},
   "source": [
    "## -Image Classification:\n",
    "<br>\n",
    "The task of identifying what an image represents is called image classification.\n",
    "There are two types of classification:\n",
    "<ul>\n",
    "    <li>Multi-Class Classification:In machine learning, multiclass or multinomial classification is the problem of classifying instances into one of three or more classes (classifying instances into one of two classes is called binary classification).</li>\n",
    "    <li>Multi-Label Classification:Model can tell multiple things in the image.Such as  if three birds in image model just don't classify as birds, it detects every each bird in image.</li>\n",
    "</ul>\n",
    "<br>\n",
    "<img src=\"./images/img2.png\">"
   ]
  },
  {
   "cell_type": "markdown",
   "id": "5fc82b83",
   "metadata": {},
   "source": [
    "## -Object Localization:\n",
    "<br>\n",
    "Object Localization is the task of locating an instance of a particular object category in an image, typically by specifying a tightly cropped bounding box centered on the instance. An object proposal specifies a candidate bounding box, and an object proposal is said to be a correct localization if it sufficiently overlaps a human-labeled “ground-truth” bounding box for the given object.\n",
    "<br>\n",
    "<img src='./images/localization2.png'>"
   ]
  },
  {
   "cell_type": "markdown",
   "id": "c6c3d3a0",
   "metadata": {},
   "source": [
    "## -Object Detection:\n",
    "<br>\n",
    "Object detection is a computer vision technique for locating instances of objects in images or videos. Object detection algorithms typically leverage machine learning or deep learning to produce meaningful results.\n",
    "<br>\n",
    "Object detection is a key technology behind advanced driver assistance systems (ADAS) that enable cars to detect driving lanes or perform pedestrian detection to improve road safety. Object detection is also useful in applications such as video surveillance or image retrieval systems.\n",
    "<br>\n",
    "<br>\n",
    "The object detection model does both object localization and object classification on the image.\n",
    "<br>\n",
    "<img src=\"./images/obj_detection.png\">\n",
    "<br>\n",
    "<img src=\"./images/detection.png\">"
   ]
  },
  {
   "cell_type": "markdown",
   "id": "e5654285",
   "metadata": {},
   "source": [
    "## About Object Detection Model:"
   ]
  },
  {
   "cell_type": "markdown",
   "id": "d60c3122",
   "metadata": {},
   "source": [
    "The goal of object detection is to develop computational models that provide the most fundamental information needed by computer vision applications:What objects are where?"
   ]
  },
  {
   "cell_type": "markdown",
   "id": "f55b4fdd",
   "metadata": {},
   "source": [
    "## How YOLO Model Works?"
   ]
  },
  {
   "cell_type": "markdown",
   "id": "48ee6808",
   "metadata": {},
   "source": [
    "### <li>Residual Blocks:</li>"
   ]
  },
  {
   "cell_type": "markdown",
   "id": "83dd0838",
   "metadata": {},
   "source": [
    "First, the image is divided into various grids. Each grid has a dimension of S x S. The following image shows how an input image is divided into grids.\n",
    "<br>\n",
    "In the image above, there are many grid cells of equal dimension. Every grid cell will detect objects that appear within them. For example, if an object center appears within a certain grid cell, then this cell will be responsible for detecting it.\n",
    "<br>\n",
    "<img src=\"./images/1.png\">"
   ]
  },
  {
   "cell_type": "markdown",
   "id": "777f0cf1",
   "metadata": {},
   "source": [
    "### <li>Bounding Box Regression:</li>"
   ]
  },
  {
   "cell_type": "markdown",
   "id": "b7f1d173",
   "metadata": {},
   "source": [
    "A bounding box is an outline that highlights an object in an image.\n",
    "<br>\n",
    "Every bounding box in the image consists of the following attributes:\n",
    "<br>\n",
    "Width (bw)\n",
    "<br>\n",
    "Height (bh)\n",
    "<br>\n",
    "Class (for example, person, car, traffic light, etc.)- This is represented by the letter c.\n",
    "Bounding box center (bx,by)\n",
    "<br>\n",
    "The following image shows an example of a bounding box. The bounding box has been represented by a yellow outline.\n",
    "<br>\n",
    "<img src=\"./images/2.png\">\n",
    "<br>\n",
    "YOLO uses a single bounding box regression to predict the height, width, center, and class of objects. In the image above, represents the probability of an object appearing in the bounding box."
   ]
  },
  {
   "cell_type": "markdown",
   "id": "af160e19",
   "metadata": {},
   "source": [
    "### <li>Intersection over union (IOU):</li>"
   ]
  },
  {
   "cell_type": "markdown",
   "id": "7fa76c01",
   "metadata": {},
   "source": [
    "Intersection over union (IOU) is a phenomenon in object detection that describes how boxes overlap. YOLO uses IOU to provide an output box that surrounds the objects perfectly.\n",
    "<br>\n",
    "Each grid cell is responsible for predicting the bounding boxes and their confidence scores. The IOU is equal to 1 if the predicted bounding box is the same as the real box. This mechanism eliminates bounding boxes that are not equal to the real box.\n",
    "<br>\n",
    "<img src=\"./images/3.png\">\n",
    "\n"
   ]
  },
  {
   "cell_type": "markdown",
   "id": "d6814073",
   "metadata": {},
   "source": [
    "## YOLO(You Only Look Once):"
   ]
  },
  {
   "cell_type": "markdown",
   "id": "27eb61f1",
   "metadata": {},
   "source": [
    "YOLO is an algorithm that uses neural networks to provide real-time object detection. This algorithm is popular because of its speed and accuracy. It has been used in various applications to detect traffic signals, people, parking meters, and animals.\n",
    "<br>\n",
    "<br>\n",
    "Object detection consists of various approaches such as fast R-CNN, Retina-Net, and Single-Shot MultiBox Detector (SSD). Although these approaches have solved the challenges of data limitation and modeling in object detection, they are not able to detect objects in a single algorithm run. YOLO algorithm has gained popularity because of its superior performance over the aforementioned object detection techniques.\n",
    "<br>\n"
   ]
  },
  {
   "cell_type": "markdown",
   "id": "8607ccec",
   "metadata": {},
   "source": [
    "## YOLOV4:"
   ]
  },
  {
   "cell_type": "markdown",
   "id": "a9c09374",
   "metadata": {},
   "source": [
    "YOLOv4 is an object detection algorithm that is an evolution of the YOLOv3 model. The YOLOv4 method was created by Alexey Bochkovskiy, Chien-Yao Wang, and Hong-Yuan Mark Liao. It is twice as fast as EfficientDet with comparable performance. In addition, AP (Average Precision) and FPS (Frames Per Second) in YOLOv4 have increased by 10% and 12% respectively compared to YOLOv3. YOLOv4’s architecture is composed of CSPDarknet53 as a backbone, spatial pyramid pooling additional module, PANet path-aggregation neck, and YOLOv3 head.\n",
    "<br>\n",
    "<br>\n",
    "YOLOv4 uses many new features and combines some of them to achieve state-of-the-art results: 43.5% AP (65.7% AP50) for the MS COCO dataset at a real-time speed of ~65 FPS on Tesla V100. Following are the new features used by YOLOv4:\n",
    "<ul>\n",
    "    <li>Weighted-Residual-Connections (WRC)</li>\n",
    "    <li>Cross-Stage-Partial-connections (CSP)</li>\n",
    "    <li>Cross mini-Batch Normalization (CmBN)</li>\n",
    "    <li>Self-adversarial-training (SAT)</li>\n",
    "    <li>Mish activation</li>\n",
    "    <li>Mosaic data augmentation</li>\n",
    "    <li>DropBlock regularization</li>\n",
    "    <li>Complete Intersection over Union loss (CIoU loss)</li>\n",
    "</ul>"
   ]
  },
  {
   "cell_type": "markdown",
   "id": "6624cb70",
   "metadata": {},
   "source": [
    "<img src='./images/graph2.png'>"
   ]
  },
  {
   "cell_type": "markdown",
   "id": "5a467bd1",
   "metadata": {},
   "source": [
    "## References:\n",
    "<br>\n",
    "<a href='https://ch.mathworks.com/discovery/object-detection.html'>Object Detection</a>\n",
    "<br>\n",
    "<a href='https://arxiv.org/pdf/1707.06175.pdf'>Bird Image Source</a>\n",
    "<br>\n",
    "<a href='https://www.analyticsvidhya.com/blog/2021/07/demystifying-the-difference-between-multi-class-and-multi-label-classification-problem-statements-in-deep-learning/'> Multi-class Multi-label Classification Image</a>\n",
    "<br>\n",
    "<a href='https://en.wikipedia.org/wiki/Multiclass_classification'>Multi-Class Classification</a>\n",
    "<br>\n",
    "<a href='https://www.tensorflow.org/lite/examples/image_classification/overview'>Image Classification </a>\n",
    "<br>\n",
    "<a href='https://paperswithcode.com/task/object-localization'> Object Localization </a>\n",
    "<br>\n",
    "<a href='https://www.section.io/engineering-education/introduction-to-yolo-algorithm-for-object-detection/'>YOLO</a>\n",
    "<br>\n",
    "<a href='https://www.pyimagesearch.com/2016/11/07/intersection-over-union-iou-for-object-detection/'>IOU</a>\n",
    "<br>\n",
    "<a href='https://medium.com/analytics-vidhya/yolov4-vs-yolov4-tiny-97932b6ec8ec'>YOLOV4</a>"
   ]
  }
 ],
 "metadata": {
  "kernelspec": {
   "display_name": "Python 3",
   "language": "python",
   "name": "python3"
  },
  "language_info": {
   "codemirror_mode": {
    "name": "ipython",
    "version": 3
   },
   "file_extension": ".py",
   "mimetype": "text/x-python",
   "name": "python",
   "nbconvert_exporter": "python",
   "pygments_lexer": "ipython3",
   "version": "3.8.8"
  }
 },
 "nbformat": 4,
 "nbformat_minor": 5
}
